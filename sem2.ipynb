{
  "nbformat": 4,
  "nbformat_minor": 0,
  "metadata": {
    "colab": {
      "provenance": [],
      "authorship_tag": "ABX9TyP4oQNbRDrZhiHjfTfMFvjd",
      "include_colab_link": true
    },
    "kernelspec": {
      "name": "python3",
      "display_name": "Python 3"
    },
    "language_info": {
      "name": "python"
    }
  },
  "cells": [
    {
      "cell_type": "markdown",
      "metadata": {
        "id": "view-in-github",
        "colab_type": "text"
      },
      "source": [
        "<a href=\"https://colab.research.google.com/github/sarabodnar/pacetech/blob/main/sem2.ipynb\" target=\"_parent\"><img src=\"https://colab.research.google.com/assets/colab-badge.svg\" alt=\"Open In Colab\"/></a>"
      ]
    },
    {
      "cell_type": "code",
      "execution_count": null,
      "metadata": {
        "id": "Y0Zf3GCgFSeP"
      },
      "outputs": [],
      "source": [
        "#calculo de média de notas dos alunos\n",
        "\n",
        "notaum = float (input(\"Digite o valor da sua nota 01 utilizando apenas ponto para separação:\"))\n",
        "notadois = float (input(\"Digite o valor da sua nota 02 utilizando apenas ponto para separação:\"))\n",
        "notatres = float (input(\"Digite o valor da sua nota 03 utilizando apenas ponto para separação:\"))\n",
        "\n",
        "#Elabore um programa que solicite ao usuário as notas de determinada disciplina escolar e calcule a média. Se a média for maior ou igual a 7,\n",
        "#deve mostrar que o estudante foi aprovado.\n",
        "soma= notaum+ notadois+ notatres\n",
        "media= soma/3\n",
        "\n",
        "if media >= 7.0:\n",
        "  print(\"Você foi Aprovado menorzinho, tá no caminho\")\n",
        "else:\n",
        "  print(\"Você foi Reprovado,vacilou estude mais\")\n",
        "print(f\"Sua média é:{media}\")"
      ]
    },
    {
      "cell_type": "code",
      "source": [
        "#calculo de idade\n",
        "ano= int(input(\"Digite o ano do seu nascimento: \"))\n",
        "niver= int(input(\"Você já fez aniversário esse ano? Digite 1 para SIM e 2 NÃO:\"))\n",
        "sub= 2024-ano\n",
        "if niver== 2:\n",
        "  print(f\"Sua idade é:{sub-1}\")\n",
        "if niver== 1:\n",
        "  print(f\"Sua idade é:{sub}\")\n",
        "\n"
      ],
      "metadata": {
        "colab": {
          "base_uri": "https://localhost:8080/"
        },
        "id": "0OtJD0mGQpFL",
        "outputId": "19cf08b9-4e05-46e1-aaa8-2423ab1ad3ed"
      },
      "execution_count": 21,
      "outputs": [
        {
          "output_type": "stream",
          "name": "stdout",
          "text": [
            "Digite o ano do seu nascimento: 1969\n",
            "Você já fez aniversário esse ano? Digite 1 para SIM e 2 NÃO:1\n",
            "Sua idade é:55\n"
          ]
        }
      ]
    }
  ]
}